{
 "cells": [
  {
   "cell_type": "code",
   "execution_count": 1,
   "id": "13ef49d1-9d4c-4217-9a23-492e8ac82c22",
   "metadata": {},
   "outputs": [],
   "source": [
    "from openai import OpenAI\n",
    "import os\n",
    "import time\n",
    "import medical_preAuthBOT_functions \n",
    "#from tqdm import tqdm"
   ]
  },
  {
   "cell_type": "code",
   "execution_count": 2,
   "id": "a1d9a234-630c-48bd-bf5b-45c7e087e018",
   "metadata": {},
   "outputs": [],
   "source": [
    "def main():\n",
    "    #%run medical_preAuthBOT_functions.ipynb\n",
    "\n",
    "    api_key = os.environ[\"openai_api_key\"] \n",
    "    client = OpenAI(api_key=api_key) # OpenAI paid api\n",
    "    \n",
    "    guidelines_file  = medical_preAuthBOT_functions.upload_guideline_file(client)    ### Loading guideline document\n",
    "    instruction_file = medical_preAuthBOT_functions.upload_instruction_file(client)  ### Loading instructions document\n",
    "    patient_file     = medical_preAuthBOT_functions.upload_patient_file(client)      ### Loading Patient document\n",
    "\n",
    "    ### Creating assistant by passing the relevant parameters\n",
    "    assistant = medical_preAuthBOT_functions.create_assistant(\n",
    "        client,\n",
    "        name = \"Medical_PreAuthBOT\",\n",
    "        instructions = \"\"\"You are an expert medical assistant. \n",
    "        Follow the instructions listed here to answer if the requested procedure(s) for the patient should be approved. \n",
    "        If not provide details of the additional information that may help in making decision.\n",
    "        1.\tPlease use only the information provided to answer. \n",
    "        2.\tYour goal is to approve the requested procedure only when all the required criterias are met.\n",
    "        3.\tIngest patient medical record PDF (medical-record-x.pdf) where X is likely a number. \n",
    "        4.\tCreate a timeline of patient’s medical history on complaints, diagnostics, diagnosis, procedures, treatments, medications etc.\n",
    "        5.\tExtract all the CPT code(s) from this document which is usually present after the text ‘Requested Procedure’ to identify which procedure(s) have been recommended by the doctor.\n",
    "        6.\tDisplay the name of the patient, patient’s date of birth or DOB, calculate the age from the date of birth or DOB and display it. Display MRN if provided. \n",
    "        7.\tIdentify if any conservative treatment has already been attempted from the patient medical record PDFs whether in medical procedures, clinical procedures or notes.\n",
    "        8.\tIf a prior conservative treatment has already been attempted and if the treatment was successful or have shown signs of improvements,\n",
    "        then present evidence that conservative treatment improved the patient’s condition and disapprove the need for the Requested Procedure stating \n",
    "        the reason.\n",
    "        9.\tIf the conservative treatment was not found or has failed then mention explicitly that ‘conservative treatment was not found or has failed’,\n",
    "        and then look for the criterias present for Colorectal cancer screening, as indicated by 1 or more of the following to identify if the \n",
    "        Requested Procedure should be allowed or not. Please state which condition(s) in the guidelines were used to arrive at the answer.\n",
    "        a.\tPatient has average-risk or higher, if Age is 45 years or older and No colonoscopy in past 10 years \n",
    "        b.\tPatient has High risk family history, as indicated by 1 or more of the following:1.\tColorectal cancer diagnosed in one or more first-degree \n",
    "        relatives of any age and Age 40 years or older and Symptomatic (eg, abdominal pain, iron deficiency anemia, rectal bleeding) \n",
    "        2.\tFamily member with colonic adenomatous polyposis of unknown etiology \n",
    "        c.\tJuvenile polyposis syndrome diagnosis indicated by 1 or more of the following: \n",
    "        1.\tAge 12 years or older and symptomatic (eg, abdominal pain, iron deficiency anemia, rectal bleeding, telangiectasia) \n",
    "        2.\tAge younger than 12 years and symptomatic (eg, abdominal pain, iron deficiency anemia, rectal bleeding, telangiectasia)\n",
    "        10.\tDo not hallucinate or provide incorrect or incomplete information. At any point if you don’t know the answer, just say ‘I cannot arrive at the conclusion. Please provide additional information’. \n",
    "        Please request specific information that could be helpful in making a decision.\n",
    "        11.\tWalk me through the process with chain-of-thoughts on how you arrived at the conclusion. \n",
    "        12.\tAt the end, insert two blank lines, and then summarise the final conclusion with the title ‘Conclusion:’ in less than 40 words \n",
    "        if the requested procedure should be approved or not. \n",
    "        Provide the reason why it should be approved or not approved. In case of indecision, specify what further information would be \n",
    "        required to decide.\"\"\",\n",
    "        tools_type = \"retrieval\",\n",
    "        model = \"gpt-4-1106-preview\",\n",
    "             \n",
    "        instruction_file_id = instruction_file.id,\n",
    "        guidelines_file_id = guidelines_file.id,\n",
    "        patient_file_id = patient_file.id  \n",
    "    )\n",
    "\n",
    "\n",
    "    thread = client.beta.threads.create()\n",
    "\n",
    "    message = client.beta.threads.messages.create(\n",
    "    thread_id = thread.id,\n",
    "    role = \"user\",\n",
    "    content = \"You are a helpful expert medical assistant. Use the information provided to answer.\"\n",
    "    )\n",
    "\n",
    "    run = client.beta.threads.runs.create(\n",
    "    thread_id = thread.id,\n",
    "    assistant_id= assistant.id\n",
    "    )\n",
    "\n",
    "    while True:\n",
    "        # Retrieve the run status\n",
    "        run_status = client.beta.threads.runs.retrieve(thread_id=thread.id, run_id=run.id)\n",
    "        time.sleep(10)\n",
    "    \n",
    "        # Check the status of the run\n",
    "        if run_status.status == 'completed':\n",
    "            # If completed, break the loop and process messages\n",
    "            messages = client.beta.threads.messages.list(thread_id=thread.id)\n",
    "            break\n",
    "        elif run_status.status in ['failed', 'error']:\n",
    "            # If the run fails or encounters an error, handle it appropriately\n",
    "            print(f\"Run encountered an error: {run_status.status}\")\n",
    "            break\n",
    "        else:\n",
    "            # If still running, continue to wait\n",
    "            time.sleep(2)\n",
    "\n",
    "    if run_status.status in ['failed', 'error']:\n",
    "        print(f\"Run encountered an error: {run_status.status}\")\n",
    "    else: \n",
    "        for message in reversed(messages.data):\n",
    "          print(message.role + \":\" + message.content[0].text.value)\n",
    "\n",
    "    "
   ]
  },
  {
   "cell_type": "code",
   "execution_count": null,
   "id": "dfb2ba33-d336-4d91-85d6-846b35e4752c",
   "metadata": {},
   "outputs": [
    {
     "name": "stdout",
     "output_type": "stream",
     "text": [
      "Please select the Patient Medical Record for pre-authorization check: \n"
     ]
    },
    {
     "name": "stderr",
     "output_type": "stream",
     "text": [
      "2024-01-26 18:11:52.221 Python[7531:351680] WARNING: Secure coding is not enabled for restorable state! Enable secure coding by implementing NSApplicationDelegate.applicationSupportsSecureRestorableState: and returning YES.\n"
     ]
    },
    {
     "name": "stdout",
     "output_type": "stream",
     "text": [
      "Selected file path: /Users/abhi/Documents/medical-record-2.pdf\n"
     ]
    }
   ],
   "source": [
    "if __name__ == \"__main__\":\n",
    "    main()"
   ]
  },
  {
   "cell_type": "code",
   "execution_count": 7,
   "id": "a6b498fb",
   "metadata": {},
   "outputs": [],
   "source": [
    "#!pip freeze > requirements.txt"
   ]
  },
  {
   "cell_type": "code",
   "execution_count": null,
   "id": "daa054d0",
   "metadata": {},
   "outputs": [],
   "source": []
  }
 ],
 "metadata": {
  "kernelspec": {
   "display_name": "Python (myenv)",
   "language": "python",
   "name": "myenv"
  },
  "language_info": {
   "codemirror_mode": {
    "name": "ipython",
    "version": 3
   },
   "file_extension": ".py",
   "mimetype": "text/x-python",
   "name": "python",
   "nbconvert_exporter": "python",
   "pygments_lexer": "ipython3",
   "version": "3.11.5"
  }
 },
 "nbformat": 4,
 "nbformat_minor": 5
}
